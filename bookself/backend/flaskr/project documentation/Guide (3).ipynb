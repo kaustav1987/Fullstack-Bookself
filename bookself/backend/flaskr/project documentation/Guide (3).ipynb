{
 "cells": [
  {
   "cell_type": "markdown",
   "metadata": {
    "editable": false
   },
   "source": [
    "# Project Documentation Practice\n",
    "In this workspace, your task is to practice writing documentation for the bookstore app we created earlier.\n",
    "\n",
    "You'll soon be writing documentation for your final project (the Trivia API), after which you'll get feedback from a reviewer. You can think of this as some rudimentary practice to prepare for that.\n",
    "\n",
    "At each step, you can compare what you've written with our own version. Of course, there isn't a single correct way to write a piece of documentation, so your version may look quite different. However, there are principles and practices you should follow in order to produce quality documentation, and we'll point this out so you can check whether you've incorporated them in what you wrote.\n",
    "\n",
    "To get started, go ahead and move to the next page in this workspace."
   ]
  },
  {
   "cell_type": "markdown",
   "metadata": {
    "editable": false
   },
   "source": [
    "<!--\n",
    "%%ulab_page_divider\n",
    "--><hr/>"
   ]
  },
  {
   "cell_type": "markdown",
   "metadata": {
    "editable": false
   },
   "source": [
    "## Title & Description\n",
    "\n",
    "Your first task is to write the Title & Description for the application. Remember, a good introduction has the following features:\n",
    "- explains why your project is interesting\n",
    "- describes your motivation to creating the project and why the user should want to engage with it\n",
    "- provides clear instructions for developers who want to use or contribute to your prject \n",
    "\n",
    "You can write your Title & Description in the Documentation.txt file on the right.\n",
    "\n",
    "Once you've taken a shot at it, go ahead and click the button below to compare what you wrote with our own version."
   ]
  },
  {
   "cell_type": "markdown",
   "metadata": {
    "editable": false,
    "toggleable": true,
    "ulab": {
     "buttons": {
      "ulab-button-toggle-f4d7d664": {
       "style": "primary"
      }
     }
    }
   },
   "source": [
    "# The Great Bookshelf of Udacity\n",
    "\n",
    "This project is a virtual bookshelf for Udacity students. Students are able to add their books to the bookshelf, give them a rating, update the rating and search through their book lists. As a part of the Fullstack Nanodegree, it serves as a practice module for lessons from Course 2: API Development and Documentation. By completing this project, students learn and apply their skills structuring and implementing well formatted API endpoints that leverage knowledge of HTTP and API development best practices. \n",
    "\n",
    "All backend code follows [PEP8 style guidelines](https://www.python.org/dev/peps/pep-0008/). \n",
    "\n",
    "## Student Guidelines\n",
    "\n",
    "Hello students! You'll use this base in various workspaces throughout the course to build the project incrementally as you expand your skills. At each stage, there will be various 'TODO's marked for you to complete. You'll also notice some TODOs in the frontend section. You should referene those sections for formatting your endpoints and responses, and update the frontend to match the endpoints you choose and the programmed behavior. \n",
    "\n",
    "You should feel free to expand on the project in any way you can dream up to extend your skills. For instance, you could add additional book information to each entry or create individual book views including more information about the book, your thoughts or when you completed it. "
   ]
  },
  {
   "cell_type": "markdown",
   "metadata": {
    "editable": false
   },
   "source": [
    "<!--\n",
    "%%ulab_page_divider\n",
    "--><hr/>"
   ]
  },
  {
   "cell_type": "markdown",
   "metadata": {
    "editable": false
   },
   "source": [
    "## Getting started\n",
    "\n",
    "Now, add a Getting Started section to your documentation. Remember, this should include any prerequisite skills or project dependencies as well as how to run and test the project. \n",
    "\n",
    "When you're ready, you can compare it with our version."
   ]
  },
  {
   "cell_type": "markdown",
   "metadata": {
    "editable": false,
    "toggleable": true,
    "ulab": {
     "buttons": {
      "ulab-button-toggle-7f3d66fe": {
       "style": "primary"
      }
     }
    }
   },
   "source": [
    "## Getting Started\n",
    "\n",
    "### Pre-requisites and Local Development \n",
    "Developers using this project should already have Python3, pip and node installed on their local machines.\n",
    "\n",
    "#### Backend\n",
    "\n",
    "From the backend folder run `pip install requirements.txt`. All required packages are included in the requirements file. \n",
    "\n",
    "To run the application run the following commands: \n",
    "```\n",
    "export FLASK_APP=flaskr\n",
    "export FLASK_ENV=development\n",
    "flask run\n",
    "```\n",
    "\n",
    "These commands put the application in development and directs our application to use the `__init__.py` file in our flaskr folder. Working in development mode shows an interactive debugger in the console and restarts the server whenever changes are made. If running locally on Windows, look for the commands in the [Flask documentation](http://flask.pocoo.org/docs/1.0/tutorial/factory/).\n",
    "\n",
    "The application is run on `http://127.0.0.1:5000/` by default and is a proxy in the frontend configuration. \n",
    "\n",
    "#### Frontend\n",
    "\n",
    "From the frontend folder, run the following commands to start the client: \n",
    "```\n",
    "npm install // only once to install dependencies\n",
    "npm start \n",
    "```\n",
    "\n",
    "By default, the frontend will run on localhost:3000. \n",
    "\n",
    "### Tests\n",
    "In order to run tests navigate to the backend folder and run the following commands: \n",
    "\n",
    "```\n",
    "dropdb bookshelf_test\n",
    "createdb bookshelf_test\n",
    "psql bookshelf_test < books.psql\n",
    "python test_flaskr.py\n",
    "```\n",
    "\n",
    "The first time you run the tests, omit the dropdb command. \n",
    "\n",
    "All tests are kept in that file and should be maintained as updates are made to app functionality. "
   ]
  },
  {
   "cell_type": "markdown",
   "metadata": {
    "editable": false
   },
   "source": [
    "## API Reference\n",
    "We developed this in the last lab. Bring that content over to this section and make any adjustments as you see fit. "
   ]
  },
  {
   "cell_type": "markdown",
   "metadata": {
    "editable": false
   },
   "source": [
    "## Authors\n",
    "Give credit where credit is due! If you used any open source technologies, cite those here as well. \n",
    "\n",
    "When you're ready, you can compare it with our version."
   ]
  },
  {
   "cell_type": "markdown",
   "metadata": {
    "editable": false
   },
   "source": [
    "## Authors\n",
    "Yours truly, Coach Caryn "
   ]
  },
  {
   "cell_type": "markdown",
   "metadata": {
    "editable": false
   },
   "source": [
    "## Acknowledgements\n",
    "In the world of development, we often have thought partners who help us towards developing the best product with the best code we can. If anyone helped you on this learning journey or in developing this project specifically, give them a shout here... and let them know in real life. \n",
    "\n",
    "When you're ready, you can compare it with our version."
   ]
  }
 ],
 "metadata": {
  "kernelspec": {
   "display_name": "Python 3",
   "language": "python",
   "name": "python3"
  },
  "language_info": {
   "codemirror_mode": {
    "name": "ipython",
    "version": 3
   },
   "file_extension": ".py",
   "mimetype": "text/x-python",
   "name": "python",
   "nbconvert_exporter": "python",
   "pygments_lexer": "ipython3",
   "version": "3.6.3"
  },
  "ulab_nb_type": "guided"
 },
 "nbformat": 4,
 "nbformat_minor": 4
}
